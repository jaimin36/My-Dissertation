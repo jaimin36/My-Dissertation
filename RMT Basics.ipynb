{
 "cells": [
  {
   "cell_type": "code",
   "execution_count": 1,
   "metadata": {},
   "outputs": [],
   "source": [
    "from sympy import *\n",
    "import scipy\n",
    "import numpy as np\n",
    "import matplotlib.pyplot as plt\n",
    "import seaborn as sns\n",
    "from sklearn import preprocessing\n",
    "from scipy.sparse.linalg import svds\n",
    "import cmath\n",
    "#unfolding procedure: http://dx.doi.org/10.1119/1.2198883"
   ]
  },
  {
   "cell_type": "code",
   "execution_count": null,
   "metadata": {},
   "outputs": [],
   "source": []
  },
  {
   "cell_type": "code",
   "execution_count": 11,
   "metadata": {},
   "outputs": [],
   "source": [
    "gamma = lambda x: scipy.special.gamma(x)\n",
    "def wigner_surmise(s, beta):\n",
    "    a = 2*(gamma((beta+2)/2))**(beta+1)/(gamma((beta+1)/2))**(beta + 2)\n",
    "    b = (gamma((beta+2)/2))**2/(gamma((beta+1)/2))**2\n",
    "    return a * (s**beta) * np.exp(-b*s**2)\n",
    "\n",
    "def ws1(s1):\n",
    "    #for GOE\n",
    "    return [(np.pi*s/2)*np.exp(-np.pi*(s**2)/4) for s in s1]\n",
    "\n",
    "def ws2(s1):\n",
    "    #for GUE\n",
    "    return [(32*s**2/np.pi**2)*np.exp(-4*s**2/np.pi) for s in s1]\n",
    "\n",
    "def ws4(s1):\n",
    "    #for GSE\n",
    "    return [(2**18*s**4/(3**6*np.pi**3))*np.exp(-64*s**2/(9*np.pi)) for s in s1]\n",
    "\n",
    "def Generate_GOE(n):\n",
    "    A = np.random.normal(loc=50,scale=1.1,size=[n,n])\n",
    "    G = (A+A.T)/2\n",
    "    return G\n",
    "\n",
    "def Generate_GUE(n):\n",
    "    A=np.random.normal(loc=0,scale=1/np.sqrt(2),size=[n,n])+(np.random.normal(loc=0,scale=1/np.sqrt(2),size=[n,n])*1j)\n",
    "    A=np.matrix(A)\n",
    "    G=(A+A.H)/2\n",
    "    return G\n",
    "\n",
    "def SemiCircle(R,x):\n",
    "    temp1=[i**2 for i in x]\n",
    "    return (2/(pi*R**2))*np.sqrt(R**2-temp1)\n",
    "\n",
    "def UnfoldingSingle(arr,deg=15,bins=40):\n",
    "    Y=np.linspace(0,max(arr),bins)\n",
    "    CumDist=[]\n",
    "    for i in Y:\n",
    "        c=0\n",
    "        for j in arr:\n",
    "            if j<=i:\n",
    "                c+=1\n",
    "        CumDist.append(c)\n",
    "        \n",
    "    p=np.polyfit(Y,CumDist,deg)\n",
    "    unfolded=np.polyval(p,arr)\n",
    "    return unfolded\n",
    "\n",
    "def MatrixM(m,n,mu=0,sigma=1):\n",
    "    return np.matrix(np.random.normal(mu,sigma,size=[m,n]))\n",
    "\n",
    "def PDFWishart(Lambda1):\n",
    "    l_min=std**2*(1+(1/Q)-2*np.sqrt(1/Q))\n",
    "    l_max=std**2*(1+(1/Q)+2*np.sqrt(1/Q))\n",
    "    \n",
    "    return [(Q/(2*np.pi*std**2))*(np.sqrt((l_max-Lambda)*(Lambda-l_min))/Lambda) for Lambda in Lambda1]\n",
    "\n",
    "def normalize(mat):\n",
    "    X=np.matrix(mat)\n",
    "    X=X.T\n",
    "    scaler = preprocessing.StandardScaler().fit(X)\n",
    "    X_scaled = scaler.transform(X)\n",
    "    return np.matrix(X_scaled.T)\n",
    "\n",
    "def UnfoldingAll(E,n=40,deg=15):\n",
    "    E_linear=np.array(E)\n",
    "    nsamples,N=E.shape\n",
    "    temp=np.array(E.reshape(nsamples*N))\n",
    "    #for i in temp:\n",
    "    #    E_linear=i\n",
    "    Ymax=E_linear.max()\n",
    "    YR=np.linspace(0,Ymax,n)\n",
    "    CumDist=[]\n",
    "    for i in YR:\n",
    "        c=0\n",
    "        for j in E_linear:\n",
    "            if j<=i:\n",
    "                c+=1\n",
    "        CumDist.append(c/nsamples)\n",
    "    \n",
    "    p=np.polyfit(YR,CumDist,deg)\n",
    "    unfolded=np.polyval(p,E_linear)\n",
    "    return unfolded\n",
    "\n",
    "def UnfoldingWigner(arr):\n",
    "    unfolded=[]\n",
    "    N=len(arr)\n",
    "    for i in arr:\n",
    "    #    if i<=-np.sqrt(2*N):\n",
    "    #        unfolded.append(0)\n",
    "    #    elif i>=np.sqrt(2*N):\n",
    "    #        unfolded.append(N)\n",
    "    #    else:\n",
    "        unfolded.append(((i/(2*np.pi))*np.sqrt((2*N)-i**2))+((N/np.pi)*np.arcsin(i/np.sqrt(2*N)))+(N/2))\n",
    "    return unfolded\n",
    "\n",
    "def IPR(vector):\n",
    "    vector=np.array(vector)\n",
    "    sum1=0\n",
    "    for component in vector:\n",
    "        sum1+=(component**4)\n",
    "    return sum(sum1)\n",
    "\n",
    "def PTD(vec):\n",
    "    vec=np.array(vec)\n",
    "    #r=[comp**2 for comp in vec]\n",
    "    N=len(r)\n",
    "    return [1/(np.sqrt(2*np.pi))*np.exp(-r1**2/2) for r1 in r]\n",
    "\n",
    "def GD(mu1,sigma1,x):\n",
    "    return [1/(np.sqrt(2*np.pi*sigma1**2))*exp(-0.5*((x1-mu1)/sigma1)**2) for x1 in x]"
   ]
  },
  {
   "cell_type": "code",
   "execution_count": null,
   "metadata": {},
   "outputs": [],
   "source": []
  },
  {
   "cell_type": "code",
   "execution_count": null,
   "metadata": {},
   "outputs": [],
   "source": []
  },
  {
   "cell_type": "code",
   "execution_count": null,
   "metadata": {},
   "outputs": [],
   "source": [
    "#wishart distribution\n",
    "#wigner's surmise and PDF of eigenvalues\n",
    "\n",
    "ev=[]\n",
    "for i in range(1000):\n",
    "    N,K=1000,1000\n",
    "    M=MatrixM(N,K,10,10)\n",
    "    M1=normalize(M)\n",
    "    WM=M1*M1.T/N\n",
    "    m,n=np.linalg.eigh(WM)\n",
    "    Q=K/N\n",
    "    std=M1.std()\n",
    "    m.sort()\n",
    "    m=UnfoldingSingle(m)\n",
    "    m1=[(m[i+2]-m[i])/2 for i in range(len(m)-2)]\n",
    "    \n",
    "    ev.extend(m1)\n",
    "\n",
    "x=np.linspace(0,5,100)\n",
    "#y=PDFWishart(x)\n",
    "y=ws2(x)\n",
    "plt.hist(ev,density=bool,bins=80)\n",
    "plt.plot(x,y)\n",
    "plt.show()"
   ]
  },
  {
   "cell_type": "code",
   "execution_count": null,
   "metadata": {},
   "outputs": [],
   "source": [
    "#get IPR of eigenvectors\n",
    "vectors=n.T\n",
    "\n",
    "x=[i for i in range(len(vectors))]\n",
    "y=[IPR(vectors[comp]) for comp in range(len(vectors))]\n",
    "AverageValue=sum(y)/len(y)\n",
    "plt.plot(x,y)\n",
    "plt.axhline(y=AverageValue,color='r') #average value should be near/around ~ 3/N\n",
    "plt.show()"
   ]
  },
  {
   "cell_type": "code",
   "execution_count": null,
   "metadata": {},
   "outputs": [],
   "source": []
  },
  {
   "cell_type": "code",
   "execution_count": null,
   "metadata": {},
   "outputs": [],
   "source": []
  },
  {
   "cell_type": "code",
   "execution_count": null,
   "metadata": {},
   "outputs": [],
   "source": []
  },
  {
   "cell_type": "code",
   "execution_count": null,
   "metadata": {},
   "outputs": [],
   "source": [
    "#wigner's semicircle\n",
    "\n",
    "s=[]\n",
    "for i in range(2):\n",
    "    m=Generate_GOE(500)\n",
    "    m=normalize(m)\n",
    "    a,b=np.linalg.eigh(m)\n",
    "    s.extend(a)\n",
    "\n",
    "R=max(s)\n",
    "x=np.linspace(-R,R,100)\n",
    "y=SemiCircle(R,x)\n",
    "plt.hist(s,density=bool,bins=100)\n",
    "plt.plot(x,y)\n",
    "plt.show()"
   ]
  },
  {
   "cell_type": "code",
   "execution_count": null,
   "metadata": {},
   "outputs": [],
   "source": []
  },
  {
   "cell_type": "code",
   "execution_count": 16,
   "metadata": {},
   "outputs": [
    {
     "name": "stderr",
     "output_type": "stream",
     "text": [
      "C:\\Users\\Jaimin\\Anaconda3\\lib\\site-packages\\ipykernel_launcher.py:93: RuntimeWarning: invalid value encountered in sqrt\n",
      "C:\\Users\\Jaimin\\Anaconda3\\lib\\site-packages\\ipykernel_launcher.py:93: RuntimeWarning: invalid value encountered in arcsin\n"
     ]
    },
    {
     "data": {
      "image/png": "[encoded data removed]",
      "text/plain": [
       "<Figure size 432x288 with 1 Axes>"
      ]
     },
     "metadata": {
      "needs_background": "light"
     },
     "output_type": "display_data"
    }
   ],
   "source": [
    "#wigner's surmise\n",
    "s=[]\n",
    "for i in range(100):\n",
    "    m=Generate_GUE(1000)\n",
    "    a,b=np.linalg.eigh(m)\n",
    "    a.sort()\n",
    "    unfolded=UnfoldingWigner(a)\n",
    "    temp=[(unfolded[i+2]-unfolded[i])/2 for i in range(len(a)-2)]\n",
    "    s.extend(temp)\n",
    "\n",
    "plt.hist(s,density=bool,bins=100)\n",
    "x=np.linspace(0,4,50)\n",
    "y=ws4(np.array(x))\n",
    "plt.plot(x,y)\n",
    "plt.show()"
   ]
  },
  {
   "cell_type": "code",
   "execution_count": null,
   "metadata": {},
   "outputs": [],
   "source": []
  }
 ],
 "metadata": {
  "kernelspec": {
   "display_name": "Python 3",
   "language": "python",
   "name": "python3"
  },
  "language_info": {
   "codemirror_mode": {
    "name": "ipython",
    "version": 3
   },
   "file_extension": ".py",
   "mimetype": "text/x-python",
   "name": "python",
   "nbconvert_exporter": "python",
   "pygments_lexer": "ipython3",
   "version": "3.7.3"
  }
 },
 "nbformat": 4,
 "nbformat_minor": 2
}
